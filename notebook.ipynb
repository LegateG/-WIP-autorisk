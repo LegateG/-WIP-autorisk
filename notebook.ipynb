{
 "cells": [
  {
   "cell_type": "markdown",
   "metadata": {},
   "source": [
    "# Car Insurance Risk Analysis\n",
    "\n",
    "This notebook analyzes vehicle safety based on insurance claim data across different metrics:\n",
    "- Collision: Cost index for collision claims\n",
    "- Comprehensive (Comp): Cost index for comprehensive claims including theft\n",
    "- DCPD (Direct Compensation Property Damage): Cost index for property damage claims\n",
    "- AB (Accident Benefits): Frequency index for personal injury claims"
   ]
  },
  {
   "cell_type": "code",
   "execution_count": 1,
   "metadata": {},
   "outputs": [],
   "source": [
    "import pandas as pd\n",
    "import numpy as np\n",
    "import seaborn as sns\n",
    "import matplotlib.pyplot as plt\n",
    "from typing import List\n",
    "\n",
    "# Set style for better visualizations\n",
    "plt.style.use('seaborn')\n",
    "sns.set_palette('husl')"
   ]
  },
  {
   "cell_type": "code",
   "execution_count": 2,
   "metadata": {},
   "outputs": [],
   "source": [
    "# Load and prepare the data\n",
    "df = pd.read_csv('hcmu_e_2024.csv')\n",
    "\n",
    "# Clean column names\n",
    "df.columns = df.columns.str.strip()\n",
    "\n",
    "# Display basic information about the dataset\n",
    "print(\"Dataset Info:\")\n",
    "print(df.info())\n",
    "\n",
    "print(\"\\nSample of the data:\")\n",
    "print(df.head())"
   ]
  },
  {
   "cell_type": "code",
   "execution_count": 3,
   "metadata": {},
   "outputs": [],
   "source": [
    "def calculate_safety_score(row):\n",
    "    \"\"\"Calculate overall safety score (lower is better)\"\"\"\n",
    "    # Convert missing values to median for each column\n",
    "    collision = row['Collision'] if pd.notna(row['Collision']) else df['Collision'].median()\n",
    "    comp = row['Comp'] if pd.notna(row['Comp']) else df['Comp'].median()\n",
    "    dcpd = row['DCPD'] if pd.notna(row['DCPD']) else df['DCPD'].median()\n",
    "    ab = row['AB'] if pd.notna(row['AB']) else df['AB'].median()\n",
    "    \n",
    "    # Normalize and weight different factors\n",
    "    # Higher weights for collision and accident benefits as they're more safety-critical\n",
    "    weights = {\n",
    "        'collision': 0.35,  # Collision severity\n",
    "        'comp': 0.15,      # Comprehensive claims\n",
    "        'dcpd': 0.20,      # Property damage\n",
    "        'ab': 0.30         # Personal injury\n",
    "    }\n",
    "    \n",
    "    return (\n",
    "        collision * weights['collision'] +\n",
    "        comp * weights['comp'] +\n",
    "        dcpd * weights['dcpd'] +\n",
    "        ab * weights['ab']\n",
    "    )\n",
    "\n",
    "# Calculate safety scores\n",
    "df['safety_score'] = df.apply(calculate_safety_score, axis=1)"
   ]
  },
  {
   "cell_type": "code",
   "execution_count": 4,
   "metadata": {},
   "outputs": [],
   "source": [
    "def get_top_safe_vehicles(df: pd.DataFrame, body_style: str, top_n: int = 5) -> pd.DataFrame:\n",
    "    \"\"\"Get the top N safest vehicles for a specific body style\"\"\"\n",
    "    style_df = df[df['Body Style'] == body_style].copy()\n",
    "    return (\n",
    "        style_df\n",
    "        .sort_values('safety_score')\n",
    "        .head(top_n)\n",
    "        [['Make', 'Model', 'Model Year', 'safety_score', 'Collision', 'Comp', 'DCPD', 'AB']]\n",
    "    )\n",
    "\n",
    "# Display top 5 safest vehicles for each body style\n",
    "for style in df['Body Style'].unique():\n",
    "    print(f\"\\nTop 5 Safest {style} Vehicles:\")\n",
    "    print(get_top_safe_vehicles(df, style))"
   ]
  },
  {
   "cell_type": "code",
   "execution_count": 5,
   "metadata": {},
   "outputs": [],
   "source": [
    "# Visualization 1: Risk Metrics by Body Style\n",
    "plt.figure(figsize=(12, 6))\n",
    "\n",
    "metrics = ['Collision', 'Comp', 'DCPD', 'AB']\n",
    "data_melted = df.melt(id_vars=['Body Style'], value_vars=metrics, var_name='Metric', value_name='Value')\n",
    "\n",
    "sns.boxplot(x='Body Style', y='Value', hue='Metric', data=data_melted)\n",
    "plt.title('Risk Metrics Distribution by Body Style')\n",
    "plt.xticks(rotation=45)\n",
    "plt.tight_layout()\n",
    "plt.show()"
   ]
  },
  {
   "cell_type": "code",
   "execution_count": 6,
   "metadata": {},
   "outputs": [],
   "source": [
    "# Visualization 2: Safety Score Trends Over Years\n",
    "plt.figure(figsize=(12, 6))\n",
    "\n",
    "yearly_avg = df.groupby(['Model Year', 'Body Style'])['safety_score'].mean().unstack()\n",
    "\n",
    "for style in yearly_avg.columns:\n",
    "    plt.plot(yearly_avg.index, yearly_avg[style], marker='o', label=style)\n",
    "\n",
    "plt.title('Average Safety Score Trends by Body Style')\n",
    "plt.xlabel('Model Year')\n",
    "plt.ylabel('Average Safety Score (lower is better)')\n",
    "plt.legend(title='Body Style')\n",
    "plt.grid(True)\n",
    "plt.tight_layout()\n",
    "plt.show()"
   ]
  },
  {
   "cell_type": "code",
   "execution_count": 7,
   "metadata": {},
   "outputs": [],
   "source": [
    "# Analysis of Make Performance\n",
    "make_analysis = df.groupby('Make').agg({\n",
    "    'safety_score': 'mean',\n",
    "    'Collision': 'mean',\n",
    "    'Comp': 'mean',\n",
    "    'DCPD': 'mean',\n",
    "    'AB': 'mean',\n",
    "    'Model': 'count'\n",
    "}).round(2)\n",
    "\n",
    "make_analysis = make_analysis.rename(columns={'Model': 'Number of Models'})\n",
    "make_analysis = make_analysis.sort_values('safety_score')\n",
    "\n",
    "print(\"Manufacturer Performance Analysis (Top 10):\")\n",
    "print(make_analysis.head(10))"
   ]
  },
  {
   "cell_type": "markdown",
   "metadata": {},
   "source": [
    "## Key Findings\n",
    "\n",
    "1. Safety Score Calculation:\n",
    "   - Weighted combination of all risk factors\n",
    "   - Higher weights assigned to collision and accident benefits\n",
    "   - Lower scores indicate safer vehicles\n",
    "\n",
    "2. Body Style Analysis:\n",
    "   - Different body styles show distinct risk patterns\n",
    "   - SUVs and 4-door vehicles generally show more consistent safety scores\n",
    "\n",
    "3. Temporal Trends:\n",
    "   - Safety scores generally improve in newer models\n",
    "   - Some body styles show more improvement than others\n",
    "\n",
    "4. Manufacturer Analysis:\n",
    "   - Shows which manufacturers consistently produce safer vehicles\n",
    "   - Considers the full range of models from each manufacturer"
   ]
  }
 ],
 "metadata": {
  "kernelspec": {
   "display_name": "Python 3",
   "language": "python",
   "name": "python3"
  },
  "language_info": {
   "codemirror_mode": {
    "name": "ipython",
    "version": 3
   },
   "file_extension": ".py",
   "mimetype": "text/x-python",
   "name": "python",
   "nbconvert_exporter": "python",
   "pygments_lexer": "ipython3",
   "version": "3.8.0"
  }
 },
 "nbformat": 4,
 "nbformat_minor": 4
}
